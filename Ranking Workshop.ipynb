{
 "cells": [
  {
   "cell_type": "markdown",
   "metadata": {},
   "source": [
    "### Rating Sports Teams with Current ACC Basketball Data\n",
    "\n",
    "This notebook will run through a process of rating and ranking ACC basketball teams using the current game data from 03/01/2020."
   ]
  },
  {
   "cell_type": "markdown",
   "metadata": {},
   "source": [
    "The block below imports data from https://www.masseyratings.com/scores.php?s=309912&sub=10423&all=1&mode=3&format=1.\n",
    "\n",
    "The columns are team 1, a 1 for a win or -1 for a loss, the points team 1 scored, and then the next three columns are the same but for team 2."
   ]
  },
  {
   "cell_type": "code",
   "execution_count": null,
   "metadata": {},
   "outputs": [],
   "source": [
    "import pandas\n",
    "import numpy as np\n",
    "\n",
    "df = pandas.read_csv('03_01_2020_ACCgames.csv')\n",
    "print(df)"
   ]
  },
  {
   "cell_type": "markdown",
   "metadata": {},
   "source": [
    "The block below creates the X matrix to hold the matchups and the p vector to hold the point differentials."
   ]
  },
  {
   "cell_type": "code",
   "execution_count": null,
   "metadata": {},
   "outputs": [],
   "source": [
    "games = 135\n",
    "teams = 15\n",
    "X = np.zeros((games, teams))\n",
    "p = np.zeros((teams,1))"
   ]
  },
  {
   "cell_type": "markdown",
   "metadata": {},
   "source": [
    "The block below iterates through the data frame of game data to populate the X matrix with matchup data and the p vector with point differentials."
   ]
  },
  {
   "cell_type": "code",
   "execution_count": null,
   "metadata": {},
   "outputs": [],
   "source": [
    "for k in range (0, games):\n",
    "    col = df['team1'][k] - 1\n",
    "    col2 = df['team2'][k] - 1\n",
    "    \n",
    "    for1 = df['points1'][k]-df['points2'][k]\n",
    "    for2 = df['points2'][k]-df['points1'][k]\n",
    "    \n",
    "    p[col] = p[col]+for1\n",
    "    p[col2]= p[col2]+for2\n",
    "    \n",
    "    if (for1 > for2):\n",
    "        wL = 1\n",
    "        wL2 = -1\n",
    "    else:\n",
    "        wL = -1\n",
    "        wL2 = 1\n",
    "        \n",
    "    X[k][col] = wL\n",
    "    X[k][col2] = wL2"
   ]
  },
  {
   "cell_type": "markdown",
   "metadata": {},
   "source": [
    "We can see some of our X matrix here:"
   ]
  },
  {
   "cell_type": "code",
   "execution_count": null,
   "metadata": {},
   "outputs": [],
   "source": [
    "print(X)"
   ]
  },
  {
   "cell_type": "markdown",
   "metadata": {},
   "source": [
    "Now we will create the M matrix and verify that it looks correct, with the bottom row changed to all ones."
   ]
  },
  {
   "cell_type": "code",
   "execution_count": null,
   "metadata": {},
   "outputs": [],
   "source": [
    "M = (X.transpose())@X\n",
    "M[14,:] = np.ones(teams)\n",
    "\n",
    "print(M)"
   ]
  },
  {
   "cell_type": "markdown",
   "metadata": {},
   "source": [
    "We also have to change the final entry of our p vector to match the change made in M."
   ]
  },
  {
   "cell_type": "code",
   "execution_count": null,
   "metadata": {},
   "outputs": [],
   "source": [
    "p[14] = 0\n",
    "print(p)"
   ]
  },
  {
   "cell_type": "markdown",
   "metadata": {},
   "source": [
    "We can now calculate our ratings for the teams with the Mr = p equation."
   ]
  },
  {
   "cell_type": "code",
   "execution_count": null,
   "metadata": {},
   "outputs": [],
   "source": [
    "r = np.linalg.solve(M, p)\n",
    "\n",
    "print(r)"
   ]
  },
  {
   "cell_type": "markdown",
   "metadata": {},
   "source": [
    "Now we may want to visualize these ratings in a nicer way."
   ]
  },
  {
   "cell_type": "code",
   "execution_count": null,
   "metadata": {},
   "outputs": [],
   "source": [
    "ratings_df = pandas.DataFrame(r, columns=['Rating'],\n",
    "                index = ['Boston_College', 'Clemson', 'Duke',\n",
    "                         'Florida_St', 'Georgia_Tech', 'Louisville', \n",
    "                         'Miami_FL', 'NC_State', 'North_Carolina', \n",
    "                         'Notre_Dame', 'Pittsburgh', 'Syracuse',\n",
    "                         'Virginia', 'Virginia_Tech', 'Wake_Forest'])\n",
    "\n",
    "ratings_df.sort_values('Rating', inplace=True, ascending=False)\n",
    "ranking = [x+1 for x in range(teams)]\n",
    "\n",
    "ratings_df['Ranking'] = ranking\n",
    "\n",
    "ratings_df"
   ]
  },
  {
   "cell_type": "markdown",
   "metadata": {},
   "source": [
    "Now let's take the next steps of adding offensive and defensive ratings."
   ]
  },
  {
   "cell_type": "markdown",
   "metadata": {},
   "source": [
    "We start by creating the diagonal T matrix, and then subtract to obtain the off-diagonal P matrix.  The new M1 matrix is created because we no longer alter the M matrix the way we did earlier."
   ]
  },
  {
   "cell_type": "code",
   "execution_count": null,
   "metadata": {},
   "outputs": [],
   "source": [
    "M1 = (X.transpose())@X\n",
    "T = (np.diag(np.diag(M1)))\n",
    "print(T)"
   ]
  },
  {
   "cell_type": "code",
   "execution_count": null,
   "metadata": {},
   "outputs": [],
   "source": [
    "P = T - M1\n",
    "print(P)"
   ]
  },
  {
   "cell_type": "markdown",
   "metadata": {},
   "source": [
    "We can now calculate our f, a, and p vectors.  The new p1 vector is created because we no longer alter the p vector the way we did earlier."
   ]
  },
  {
   "cell_type": "code",
   "execution_count": null,
   "metadata": {},
   "outputs": [],
   "source": [
    "f = np.zeros((teams,1))\n",
    "a = np.zeros((teams,1))\n",
    "p1 = np.zeros((teams,1))\n",
    "\n",
    "for k in range (0, games):\n",
    "    col = df['team1'][k] - 1\n",
    "    col2 = df['team2'][k] - 1\n",
    "    \n",
    "    for1 = df['points1'][k]-df['points2'][k]\n",
    "    for2 = df['points2'][k]-df['points1'][k]\n",
    "    \n",
    "    p1[col] = p1[col]+for1\n",
    "    p1[col2]= p1[col2]+for2\n",
    "    \n",
    "    all_for1 = df['points1'][k]\n",
    "    all_against1 = df['points2'][k]\n",
    "    all_for2 = df['points2'][k]\n",
    "    all_against2 = df['points1'][k]\n",
    "    \n",
    "    f[col] = f[col]+all_for1\n",
    "    f[col2]= f[col2]+all_for2\n",
    "    \n",
    "    a[col] = a[col]+all_against1\n",
    "    a[col2] = a[col2]+all_against2"
   ]
  },
  {
   "cell_type": "markdown",
   "metadata": {},
   "source": [
    "We can verify that our f, a, and p vectors look appropriate."
   ]
  },
  {
   "cell_type": "code",
   "execution_count": null,
   "metadata": {},
   "outputs": [],
   "source": [
    "print(f)"
   ]
  },
  {
   "cell_type": "code",
   "execution_count": null,
   "metadata": {},
   "outputs": [],
   "source": [
    "print(a)"
   ]
  },
  {
   "cell_type": "markdown",
   "metadata": {},
   "source": [
    "This verifies that our p1 vector is indeed equal to f - a."
   ]
  },
  {
   "cell_type": "code",
   "execution_count": null,
   "metadata": {},
   "outputs": [],
   "source": [
    "print(f - a)\n",
    "print(p1)"
   ]
  },
  {
   "cell_type": "markdown",
   "metadata": {},
   "source": [
    "We now calculate the defensive rating, d, using the system of equations that we derived previously."
   ]
  },
  {
   "cell_type": "code",
   "execution_count": null,
   "metadata": {},
   "outputs": [],
   "source": [
    "d = np.linalg.solve((T+P),((T@r)-f))\n",
    "print(d)"
   ]
  },
  {
   "cell_type": "markdown",
   "metadata": {},
   "source": [
    "Using our existing d and r vectors, we can find the offensive rating, o."
   ]
  },
  {
   "cell_type": "code",
   "execution_count": null,
   "metadata": {},
   "outputs": [],
   "source": [
    "o = r - d\n",
    "print(o)"
   ]
  },
  {
   "cell_type": "markdown",
   "metadata": {},
   "source": [
    "Once again we will view our ratings in a prettier way."
   ]
  },
  {
   "cell_type": "code",
   "execution_count": null,
   "metadata": {},
   "outputs": [],
   "source": [
    "def_ratings_df = pandas.DataFrame(d, columns=['Defensive Rating'],\n",
    "                index = ['Boston_College', 'Clemson', 'Duke',\n",
    "                         'Florida_St', 'Georgia_Tech', 'Louisville', \n",
    "                         'Miami_FL', 'NC_State', 'North_Carolina', \n",
    "                         'Notre_Dame', 'Pittsburgh', 'Syracuse',\n",
    "                         'Virginia', 'Virginia_Tech', 'Wake_Forest'])\n",
    "\n",
    "def_ratings_df.sort_values('Defensive Rating', inplace=True, ascending=False)\n",
    "ranking_d = [x+1 for x in range(teams)]\n",
    "\n",
    "def_ratings_df['Defensive Ranking'] = ranking_d\n",
    "\n",
    "def_ratings_df"
   ]
  },
  {
   "cell_type": "code",
   "execution_count": null,
   "metadata": {},
   "outputs": [],
   "source": [
    "off_ratings_df = pandas.DataFrame(o, columns=['Offensive Rating'],\n",
    "                index = ['Boston_College', 'Clemson', 'Duke',\n",
    "                         'Florida_St', 'Georgia_Tech', 'Louisville', \n",
    "                         'Miami_FL', 'NC_State', 'North_Carolina', \n",
    "                         'Notre_Dame', 'Pittsburgh', 'Syracuse',\n",
    "                         'Virginia', 'Virginia_Tech', 'Wake_Forest'])\n",
    "\n",
    "off_ratings_df.sort_values('Offensive Rating', inplace=True, ascending=False)\n",
    "ranking_o = [x+1 for x in range(teams)]\n",
    "\n",
    "off_ratings_df['Offensive Ranking'] = ranking_o\n",
    "\n",
    "off_ratings_df"
   ]
  }
 ],
 "metadata": {
  "kernelspec": {
   "display_name": "Python 3",
   "language": "python",
   "name": "python3"
  },
  "language_info": {
   "codemirror_mode": {
    "name": "ipython",
    "version": 3
   },
   "file_extension": ".py",
   "mimetype": "text/x-python",
   "name": "python",
   "nbconvert_exporter": "python",
   "pygments_lexer": "ipython3",
   "version": "3.7.1"
  }
 },
 "nbformat": 4,
 "nbformat_minor": 2
}
